{
 "cells": [
  {
   "cell_type": "code",
   "execution_count": 2,
   "id": "cf29bf18",
   "metadata": {},
   "outputs": [
    {
     "name": "stdout",
     "output_type": "stream",
     "text": [
      "hello wrld\n"
     ]
    }
   ],
   "source": [
    "print('hello wrld')"
   ]
  },
  {
   "cell_type": "code",
   "execution_count": 4,
   "id": "1aa45513",
   "metadata": {
    "scrolled": true
   },
   "outputs": [
    {
     "name": "stdout",
     "output_type": "stream",
     "text": [
      "welcome back\n"
     ]
    }
   ],
   "source": [
    "print('welcome back')"
   ]
  },
  {
   "cell_type": "markdown",
   "id": "6074db06",
   "metadata": {},
   "source": [
    "### Data Types"
   ]
  },
  {
   "cell_type": "markdown",
   "id": "2589c056",
   "metadata": {},
   "source": [
    "## Whatever"
   ]
  },
  {
   "cell_type": "markdown",
   "id": "57a57ae1",
   "metadata": {},
   "source": [
    "# Whatever but bigger!!"
   ]
  },
  {
   "cell_type": "markdown",
   "id": "6024c39c",
   "metadata": {},
   "source": [
    "##### Whatever but with a different size\n",
    "\n"
   ]
  },
  {
   "cell_type": "markdown",
   "id": "edc9b48b",
   "metadata": {},
   "source": [
    "###### Whatever but with a different size\n",
    "\n"
   ]
  },
  {
   "cell_type": "code",
   "execution_count": 9,
   "id": "edf260e8",
   "metadata": {},
   "outputs": [
    {
     "ename": "SyntaxError",
     "evalue": "invalid syntax (CreatorTemp/ipykernel_7108/16585875.py, line 1)",
     "output_type": "error",
     "traceback": [
      "\u001b[1;36m  File \u001b[1;32m\"C:\\Users\\Public\\Documents\\Wondershare\\CreatorTemp/ipykernel_7108/16585875.py\"\u001b[1;36m, line \u001b[1;32m1\u001b[0m\n\u001b[1;33m    jupyter lab\u001b[0m\n\u001b[1;37m            ^\u001b[0m\n\u001b[1;31mSyntaxError\u001b[0m\u001b[1;31m:\u001b[0m invalid syntax\n"
     ]
    }
   ],
   "source": []
  }
 ],
 "metadata": {
  "kernelspec": {
   "display_name": "Python 3 (ipykernel)",
   "language": "python",
   "name": "python3"
  },
  "language_info": {
   "codemirror_mode": {
    "name": "ipython",
    "version": 3
   },
   "file_extension": ".py",
   "mimetype": "text/x-python",
   "name": "python",
   "nbconvert_exporter": "python",
   "pygments_lexer": "ipython3",
   "version": "3.9.7"
  }
 },
 "nbformat": 4,
 "nbformat_minor": 5
}

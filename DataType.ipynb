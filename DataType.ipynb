{
 "cells": [
  {
   "cell_type": "markdown",
   "id": "8865c35f",
   "metadata": {},
   "source": [
    "### Data Types"
   ]
  },
  {
   "cell_type": "code",
   "execution_count": 2,
   "id": "fe76efeb",
   "metadata": {},
   "outputs": [
    {
     "data": {
      "text/plain": [
       "str"
      ]
     },
     "execution_count": 2,
     "metadata": {},
     "output_type": "execute_result"
    }
   ],
   "source": [
    "a= 'python'\n",
    "type(a)"
   ]
  },
  {
   "cell_type": "code",
   "execution_count": 3,
   "id": "2c3964a2",
   "metadata": {},
   "outputs": [
    {
     "data": {
      "text/plain": [
       "float"
      ]
     },
     "execution_count": 3,
     "metadata": {},
     "output_type": "execute_result"
    }
   ],
   "source": [
    "b=5.2\n",
    "type(b)"
   ]
  },
  {
   "cell_type": "code",
   "execution_count": 4,
   "id": "e4e2bb8a",
   "metadata": {},
   "outputs": [
    {
     "data": {
      "text/plain": [
       "complex"
      ]
     },
     "execution_count": 4,
     "metadata": {},
     "output_type": "execute_result"
    }
   ],
   "source": [
    "d=3+2j\n",
    "type(d)"
   ]
  },
  {
   "cell_type": "code",
   "execution_count": 5,
   "id": "3012991f",
   "metadata": {},
   "outputs": [
    {
     "data": {
      "text/plain": [
       "bool"
      ]
     },
     "execution_count": 5,
     "metadata": {},
     "output_type": "execute_result"
    }
   ],
   "source": [
    "e = False\n",
    "type(e)"
   ]
  },
  {
   "cell_type": "code",
   "execution_count": 6,
   "id": "cf8a44f1",
   "metadata": {},
   "outputs": [
    {
     "data": {
      "text/plain": [
       "int"
      ]
     },
     "execution_count": 6,
     "metadata": {},
     "output_type": "execute_result"
    }
   ],
   "source": [
    "c = 3\n",
    "type(c)"
   ]
  },
  {
   "cell_type": "markdown",
   "id": "7648fd80",
   "metadata": {},
   "source": [
    "## Rules for naming a variable"
   ]
  },
  {
   "cell_type": "markdown",
   "id": "ecd3300f",
   "metadata": {},
   "source": [
    "### 1. Variable name should not start with a number\n",
    "### 2. Variable does not allow special characters other than underscore_\n",
    "### 3. Space is not allowed\n",
    "### 4. CAse-Sensitive\n",
    "### 5. Variable can start with any case"
   ]
  },
  {
   "cell_type": "markdown",
   "id": "579d2dff",
   "metadata": {},
   "source": [
    "## List"
   ]
  },
  {
   "cell_type": "markdown",
   "id": "5e85d701",
   "metadata": {},
   "source": [
    "<ol>\n",
    "<li>Allows Hetrogenous\n",
    "<li>is mutable\n",
    "<li> index starts from 0\n",
    "<li> [ ]\n",
    "    </ol>"
   ]
  },
  {
   "cell_type": "code",
   "execution_count": 7,
   "id": "362428c1",
   "metadata": {},
   "outputs": [],
   "source": [
    "sample_list = [12,56,43,'hi',6+9j,6.55]"
   ]
  },
  {
   "cell_type": "code",
   "execution_count": 8,
   "id": "3b1f3c8f",
   "metadata": {},
   "outputs": [
    {
     "data": {
      "text/plain": [
       "[12, 56, 43, 'hi', (6+9j), 6.55]"
      ]
     },
     "execution_count": 8,
     "metadata": {},
     "output_type": "execute_result"
    }
   ],
   "source": [
    "sample_list"
   ]
  },
  {
   "cell_type": "code",
   "execution_count": 9,
   "id": "a9a731ca",
   "metadata": {},
   "outputs": [
    {
     "data": {
      "text/plain": [
       "list"
      ]
     },
     "execution_count": 9,
     "metadata": {},
     "output_type": "execute_result"
    }
   ],
   "source": [
    "type(sample_list)"
   ]
  },
  {
   "cell_type": "code",
   "execution_count": 10,
   "id": "399ecd70",
   "metadata": {},
   "outputs": [
    {
     "data": {
      "text/plain": [
       "12"
      ]
     },
     "execution_count": 10,
     "metadata": {},
     "output_type": "execute_result"
    }
   ],
   "source": [
    "sample_list[0]"
   ]
  },
  {
   "cell_type": "markdown",
   "id": "5ee2257c",
   "metadata": {},
   "source": [
    "## Tuple"
   ]
  },
  {
   "cell_type": "markdown",
   "id": "e9b9645c",
   "metadata": {},
   "source": [
    "<ol>\n",
    "<li>Immuatable\n",
    "<li>hetrogenous\n",
    "<li> Starting index also 0\n",
    "<li>    ( )\n",
    "</ol>"
   ]
  },
  {
   "cell_type": "code",
   "execution_count": 11,
   "id": "69aa56c9",
   "metadata": {},
   "outputs": [],
   "source": [
    "sample_tuple =(1,2,3,4,2323,5)"
   ]
  },
  {
   "cell_type": "code",
   "execution_count": 12,
   "id": "d57658a0",
   "metadata": {},
   "outputs": [
    {
     "data": {
      "text/plain": [
       "(1, 2, 3, 4, 2323, 5)"
      ]
     },
     "execution_count": 12,
     "metadata": {},
     "output_type": "execute_result"
    }
   ],
   "source": [
    "sample_tuple"
   ]
  },
  {
   "cell_type": "code",
   "execution_count": 13,
   "id": "ba806126",
   "metadata": {},
   "outputs": [
    {
     "data": {
      "text/plain": [
       "tuple"
      ]
     },
     "execution_count": 13,
     "metadata": {},
     "output_type": "execute_result"
    }
   ],
   "source": [
    "type(sample_tuple)"
   ]
  },
  {
   "cell_type": "code",
   "execution_count": 14,
   "id": "25065262",
   "metadata": {},
   "outputs": [
    {
     "ename": "AttributeError",
     "evalue": "'tuple' object has no attribute 'reverse'",
     "output_type": "error",
     "traceback": [
      "\u001b[1;31m---------------------------------------------------------------------------\u001b[0m",
      "\u001b[1;31mAttributeError\u001b[0m                            Traceback (most recent call last)",
      "\u001b[1;32mC:\\Users\\Public\\Documents\\Wondershare\\CreatorTemp/ipykernel_12724/2111542599.py\u001b[0m in \u001b[0;36m<module>\u001b[1;34m\u001b[0m\n\u001b[1;32m----> 1\u001b[1;33m \u001b[0msample_tuple\u001b[0m\u001b[1;33m.\u001b[0m\u001b[0mreverse\u001b[0m\u001b[1;33m(\u001b[0m\u001b[1;33m)\u001b[0m\u001b[1;33m\u001b[0m\u001b[1;33m\u001b[0m\u001b[0m\n\u001b[0m",
      "\u001b[1;31mAttributeError\u001b[0m: 'tuple' object has no attribute 'reverse'"
     ]
    }
   ],
   "source": [
    "sample_tuple.reverse()"
   ]
  },
  {
   "cell_type": "markdown",
   "id": "05e6f145",
   "metadata": {},
   "source": [
    "## Set"
   ]
  },
  {
   "cell_type": "markdown",
   "id": "0ce11e63",
   "metadata": {},
   "source": [
    "1. Indexing is not allowed <br>\n",
    "2. It is immutable but only appending and immutable using index <br>\n",
    "3. Ordered first place \"\" <br>\n",
    "4. Does not allow duplicated or automatically removes duplicates <br>\n",
    "5. Is hetrogenous"
   ]
  },
  {
   "cell_type": "code",
   "execution_count": 19,
   "id": "9e86db39",
   "metadata": {},
   "outputs": [],
   "source": [
    "sample_set = {9,33,23,4,23,4,33,123,2,1,55}"
   ]
  },
  {
   "cell_type": "code",
   "execution_count": 20,
   "id": "da9efe6f",
   "metadata": {},
   "outputs": [
    {
     "data": {
      "text/plain": [
       "{1, 2, 4, 9, 23, 33, 55, 123}"
      ]
     },
     "execution_count": 20,
     "metadata": {},
     "output_type": "execute_result"
    }
   ],
   "source": [
    "sample_set # it is getting sorted according to the first digit of the element"
   ]
  },
  {
   "cell_type": "markdown",
   "id": "8cc748e8",
   "metadata": {},
   "source": [
    "## Dictionary"
   ]
  },
  {
   "cell_type": "markdown",
   "id": "df3ef754",
   "metadata": {},
   "source": [
    "1. Key-value data structure\n",
    "2. key is unique and values can be duplicated\n",
    "3. can retrive the value using the key,\n",
    "4. key is immutable"
   ]
  },
  {
   "cell_type": "code",
   "execution_count": 22,
   "id": "edf9fce5",
   "metadata": {},
   "outputs": [],
   "source": [
    "sample_dictionary = {\n",
    "    \"a\":\"alpha\",\n",
    "    1:\"first\",\n",
    "    2:'second',\n",
    "    3:'Third',\n",
    "    4:'Third'\n",
    "}"
   ]
  },
  {
   "cell_type": "code",
   "execution_count": 24,
   "id": "ff9e2e98",
   "metadata": {},
   "outputs": [
    {
     "data": {
      "text/plain": [
       "'alpha'"
      ]
     },
     "execution_count": 24,
     "metadata": {},
     "output_type": "execute_result"
    }
   ],
   "source": [
    "sample_dictionary['a']"
   ]
  },
  {
   "cell_type": "code",
   "execution_count": 26,
   "id": "130d28dd",
   "metadata": {},
   "outputs": [
    {
     "data": {
      "text/plain": [
       "'Third'"
      ]
     },
     "execution_count": 26,
     "metadata": {},
     "output_type": "execute_result"
    }
   ],
   "source": [
    "sample_dictionary[4]"
   ]
  },
  {
   "cell_type": "code",
   "execution_count": 27,
   "id": "c9bf85ca",
   "metadata": {},
   "outputs": [],
   "source": [
    "sample_dictionary[7] =\"Seventh\" "
   ]
  },
  {
   "cell_type": "code",
   "execution_count": 28,
   "id": "3dd4fc2a",
   "metadata": {},
   "outputs": [
    {
     "data": {
      "text/plain": [
       "{'a': 'alpha', 1: 'first', 2: 'second', 3: 'Third', 4: 'Third', 7: 'Seventh'}"
      ]
     },
     "execution_count": 28,
     "metadata": {},
     "output_type": "execute_result"
    }
   ],
   "source": [
    "sample_dictionary"
   ]
  },
  {
   "attachments": {
    "jet-plane.png": {
     "image/png": "[encoded data removed]"
    }
   },
   "cell_type": "markdown",
   "id": "2b557447",
   "metadata": {},
   "source": [
    "![jet-plane.png](attachment:jet-plane.png)"
   ]
  }
 ],
 "metadata": {
  "kernelspec": {
   "display_name": "Python 3 (ipykernel)",
   "language": "python",
   "name": "python3"
  },
  "language_info": {
   "codemirror_mode": {
    "name": "ipython",
    "version": 3
   },
   "file_extension": ".py",
   "mimetype": "text/x-python",
   "name": "python",
   "nbconvert_exporter": "python",
   "pygments_lexer": "ipython3",
   "version": "3.9.7"
  }
 },
 "nbformat": 4,
 "nbformat_minor": 5
}
